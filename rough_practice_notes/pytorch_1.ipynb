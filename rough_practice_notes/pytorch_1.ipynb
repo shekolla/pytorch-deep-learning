{
 "cells": [
  {
   "cell_type": "markdown",
   "id": "a874d3b1-f082-4099-9c6b-6800cc046cc4",
   "metadata": {},
   "source": [
    "# Data preparation\n",
    "WorkShop for Pytorch\n",
    "\n",
    "1. Prepare and collect data\n",
    "2. Build Model -- Loss function, optimizer\n",
    "3. Train Model\n",
    "4. Test Model\n",
    "5. Save Model\n",
    "6. Putting it all together\n"
   ]
  },
  {
   "cell_type": "code",
   "execution_count": 49,
   "id": "bbc01c89-5d1a-4f51-a51d-46f600168853",
   "metadata": {},
   "outputs": [],
   "source": [
    "# modules needed for us\n",
    "import torch\n",
    "from torch import nn # neural network\n",
    "import matplotlib.pyplot as plt"
   ]
  },
  {
   "cell_type": "markdown",
   "id": "952f0a2c-fb7a-49ee-b831-ae4760aeba8b",
   "metadata": {},
   "source": [
    "Machine learning is a game of two parts\n",
    "1. Convert any data, videos, text, images to numeric form\n",
    "2. Model should find patterns from the numeric data presented\n",
    "\n",
    "# Linear Regression\n",
    "** 1 Data Collection and Precession** "
   ]
  },
  {
   "cell_type": "code",
   "execution_count": 50,
   "id": "fde5710e-1945-4aa1-b879-4b48346c6442",
   "metadata": {},
   "outputs": [],
   "source": [
    "weights = 0.7 # scalar\n",
    "bias = 0.3 # scalar\n",
    "\n",
    "X = torch.arange(0, 1, step=0.02).unsqueeze(dim=1)"
   ]
  },
  {
   "cell_type": "code",
   "execution_count": 51,
   "id": "283e6c2f-3d08-4f8c-aefa-a7101377a09e",
   "metadata": {},
   "outputs": [],
   "source": [
    "X.shape\n",
    "y = weights * X + bias"
   ]
  },
  {
   "cell_type": "code",
   "execution_count": 52,
   "id": "0a3afe04-34ae-4c29-a822-20777909ce85",
   "metadata": {},
   "outputs": [
    {
     "data": {
      "text/plain": [
       "(tensor([[0.0000],\n",
       "         [0.0200],\n",
       "         [0.0400],\n",
       "         [0.0600],\n",
       "         [0.0800]]),\n",
       " tensor([[0.3000],\n",
       "         [0.3140],\n",
       "         [0.3280],\n",
       "         [0.3420],\n",
       "         [0.3560]]))"
      ]
     },
     "execution_count": 52,
     "metadata": {},
     "output_type": "execute_result"
    }
   ],
   "source": [
    "X[:5], y[:5]"
   ]
  },
  {
   "cell_type": "code",
   "execution_count": 53,
   "id": "ca9c8e7e-624a-4a95-afcf-4cf343339853",
   "metadata": {},
   "outputs": [
    {
     "data": {
      "text/plain": [
       "(40, 40, 10, 10)"
      ]
     },
     "execution_count": 53,
     "metadata": {},
     "output_type": "execute_result"
    }
   ],
   "source": [
    "# Create train/test split\n",
    "train_split = int(0.8 * len(X)) # 80% of data used for training set, 20% for testing \n",
    "X_train, y_train = X[:train_split], y[:train_split]\n",
    "X_test, y_test = X[train_split:], y[train_split:]\n",
    "\n",
    "len(X_train), len(y_train), len(X_test), len(y_test)"
   ]
  },
  {
   "cell_type": "code",
   "execution_count": 54,
   "id": "9c8a96b7-8f9a-467a-8f6d-89bfd3d561bc",
   "metadata": {},
   "outputs": [],
   "source": [
    "def plot_regression(X_train, y_train, X_test, y_test, prediction=None):\n",
    "    # plt.figure(figsize=(10, 7))\n",
    "    plt.scatter(X_train, y_train, color='blue', label='train', s=4)\n",
    "    plt.scatter(X_test, y_test, color='green', label ='test', s=4)\n",
    "    if (prediction):\n",
    "        plt.scatter(prediction[0],prediction[1], c='red', label='predict', s=4)\n",
    "    plt.legend()\n",
    "    plt.show()\n",
    "    "
   ]
  },
  {
   "cell_type": "code",
   "execution_count": 55,
   "id": "d0526151-9a7f-4389-bdee-fd2afca23eeb",
   "metadata": {},
   "outputs": [
    {
     "data": {
      "image/png": "[encoded data removed]",
      "text/plain": [
       "<Figure size 640x480 with 1 Axes>"
      ]
     },
     "metadata": {},
     "output_type": "display_data"
    }
   ],
   "source": [
    "plot_regression(X_train, y_train, X_test, y_test)"
   ]
  },
  {
   "cell_type": "markdown",
   "id": "b65845af-1ec6-41ea-9f1c-962a7bc8cbcf",
   "metadata": {},
   "source": [
    "**2. Model Building or Picking a Model**"
   ]
  },
  {
   "cell_type": "code",
   "execution_count": 56,
   "id": "ba8946b7-7912-40b4-b8a3-6bb71f0240f6",
   "metadata": {},
   "outputs": [],
   "source": [
    "class LinearRegression(nn.Module):\n",
    "    def __init__(self):\n",
    "        super().__init__()\n",
    "        self.w = nn.Parameter(torch.randn([1], dtype=torch.float32, requires_grad=True))\n",
    "        self.bias = nn.Parameter(torch.randn([1], dtype=torch.float32, requires_grad=True))\n",
    "\n",
    "    def forward(self, x: torch.Tensor) -> torch.Tensor:\n",
    "       return self.w * x + self.bias"
   ]
  },
  {
   "cell_type": "code",
   "execution_count": 58,
   "id": "045e9dd8-3300-4dfd-9448-80d054946b94",
   "metadata": {},
   "outputs": [
    {
     "name": "stdout",
     "output_type": "stream",
     "text": [
      "list parameters [Parameter containing:\n",
      "tensor([0.3367], requires_grad=True), Parameter containing:\n",
      "tensor([0.1288], requires_grad=True)]\n",
      "State Dict of  parameters OrderedDict([('w', tensor([0.3367])), ('bias', tensor([0.1288]))])\n"
     ]
    }
   ],
   "source": [
    "torch.manual_seed(42)\n",
    "\n",
    "model_0 = LinearRegression()\n",
    "print('list parameters', list(model_0.parameters()))\n",
    "print('State Dict of  parameters', model_0.state_dict())\n",
    "\n"
   ]
  },
  {
   "cell_type": "markdown",
   "id": "8de9d499-8c81-423a-9778-114fd3465f3a",
   "metadata": {},
   "source": [
    "### Make Predictions\n"
   ]
  },
  {
   "cell_type": "code",
   "execution_count": 62,
   "id": "28879715-bac5-4855-a8b8-6b0870ee86e4",
   "metadata": {},
   "outputs": [
    {
     "data": {
      "image/png": "[encoded data removed]",
      "text/plain": [
       "<Figure size 640x480 with 1 Axes>"
      ]
     },
     "metadata": {},
     "output_type": "display_data"
    }
   ],
   "source": [
    "with torch.inference_mode(): # use torch.no_grad() in  older torch version\n",
    "    y_pred = model_0(X_test)\n",
    "plot_regression(X_train, y_train, X_test, y_test, [X_test, y_pred])"
   ]
  },
  {
   "cell_type": "markdown",
   "id": "c20d0f74-daf1-4e11-86b5-9ac851872961",
   "metadata": {},
   "source": [
    "## Train\n",
    "For training we need two functions\n",
    "1. Loss\n",
    "2. Optimizer\n",
    "* Loss is used for calculating the losses between actual and predicted value, it can be found in torch.nn\n",
    "ex: torch.nn.L1loss, torch.nn.crossentropyloss\n",
    "* Optimizer is used for updating the parameters based on loss, it can be found in nn.optim ex; nn.optim.SGD, optim.Adam\n",
    "it takes parameters of models and learning rate, it can be 0.01, 0.001 etc, since this parameters can be tweeked by the User it's known as Hyperparameters\n",
    "\n",
    "## Training Song\n",
    "\n",
    "1. Forward Pass y= xm+c\n",
    "2. calculate the loss , loss = |y_pred - y_actual|\n",
    "3. Optimizer zero grad, it resets the grad values to zero, optimizer.zero_grad()\n",
    "4. loss.back(), initialize back propagation\n",
    "5. optimizer.step, update the new values in parameters\n"
   ]
  },
  {
   "cell_type": "code",
   "execution_count": 138,
   "id": "e2595f2c-1759-4832-884a-c5b13e1dfb3c",
   "metadata": {},
   "outputs": [],
   "source": [
    "loss = nn.L1Loss()\n",
    "optimizer = torch.optim.SGD(params=model_0.parameters(), lr=0.01)\n",
    "\n",
    "def train(X, y, model, loss, optimizer):\n",
    "    # forward pass\n",
    "    y_pred = model(X)\n",
    "    # loss\n",
    "    loss_ = loss(y_pred, y)\n",
    "    # zero_grad\n",
    "    optimizer.zero_grad()\n",
    "    # backpropagation\n",
    "    loss_.backward()\n",
    "\n",
    "    print(loss_)\n",
    "    # step gradient\n",
    "    optimizer.step()\n",
    "    \n",
    "    # eval\n",
    "    \n",
    "    # model.eval()\n",
    "    # with torch.inference_mode():\n",
    "    #     y_pred_test\n",
    "\n",
    "def inference(model, X, y, loss, device='cpu'):\n",
    "    with torch.inference_mode():\n",
    "        y_pred = model(X.to(device))\n",
    "        loss_ = loss(y_pred, y.to(device))\n",
    "        print(loss_)\n",
    "    return X, y_pred.detach.numpy()\n",
    "\n",
    "\n",
    "    "
   ]
  },
  {
   "cell_type": "code",
   "execution_count": 139,
   "id": "0a2942f5-8a63-4ac1-8df2-02973f6ebaba",
   "metadata": {},
   "outputs": [
    {
     "name": "stdout",
     "output_type": "stream",
     "text": [
      "tensor(0.0089, grad_fn=<MeanBackward0>)\n",
      "tensor(0.0026, grad_fn=<MeanBackward0>)\n",
      "tensor(0.0089, grad_fn=<MeanBackward0>)\n",
      "tensor(0.0026, grad_fn=<MeanBackward0>)\n",
      "tensor(0.0089, grad_fn=<MeanBackward0>)\n",
      "tensor(0.0026, grad_fn=<MeanBackward0>)\n",
      "tensor(0.0089, grad_fn=<MeanBackward0>)\n",
      "tensor(0.0026, grad_fn=<MeanBackward0>)\n",
      "tensor(0.0089, grad_fn=<MeanBackward0>)\n",
      "tensor(0.0026, grad_fn=<MeanBackward0>)\n",
      "tensor(0.0089, grad_fn=<MeanBackward0>)\n",
      "tensor(0.0026, grad_fn=<MeanBackward0>)\n",
      "tensor(0.0089, grad_fn=<MeanBackward0>)\n",
      "tensor(0.0026, grad_fn=<MeanBackward0>)\n",
      "tensor(0.0089, grad_fn=<MeanBackward0>)\n",
      "tensor(0.0026, grad_fn=<MeanBackward0>)\n",
      "tensor(0.0089, grad_fn=<MeanBackward0>)\n",
      "tensor(0.0026, grad_fn=<MeanBackward0>)\n",
      "tensor(0.0089, grad_fn=<MeanBackward0>)\n",
      "tensor(0.0026, grad_fn=<MeanBackward0>)\n",
      "tensor(0.0089, grad_fn=<MeanBackward0>)\n",
      "tensor(0.0026, grad_fn=<MeanBackward0>)\n",
      "tensor(0.0089, grad_fn=<MeanBackward0>)\n",
      "tensor(0.0026, grad_fn=<MeanBackward0>)\n",
      "tensor(0.0089, grad_fn=<MeanBackward0>)\n",
      "tensor(0.0026, grad_fn=<MeanBackward0>)\n",
      "tensor(0.0089, grad_fn=<MeanBackward0>)\n",
      "tensor(0.0026, grad_fn=<MeanBackward0>)\n",
      "tensor(0.0089, grad_fn=<MeanBackward0>)\n",
      "tensor(0.0026, grad_fn=<MeanBackward0>)\n",
      "tensor(0.0089, grad_fn=<MeanBackward0>)\n",
      "tensor(0.0026, grad_fn=<MeanBackward0>)\n",
      "tensor(0.0089, grad_fn=<MeanBackward0>)\n",
      "tensor(0.0026, grad_fn=<MeanBackward0>)\n",
      "tensor(0.0089, grad_fn=<MeanBackward0>)\n",
      "tensor(0.0026, grad_fn=<MeanBackward0>)\n",
      "tensor(0.0089, grad_fn=<MeanBackward0>)\n",
      "tensor(0.0026, grad_fn=<MeanBackward0>)\n",
      "tensor(0.0089, grad_fn=<MeanBackward0>)\n",
      "tensor(0.0026, grad_fn=<MeanBackward0>)\n",
      "tensor(0.0089, grad_fn=<MeanBackward0>)\n",
      "tensor(0.0026, grad_fn=<MeanBackward0>)\n",
      "tensor(0.0089, grad_fn=<MeanBackward0>)\n",
      "tensor(0.0026, grad_fn=<MeanBackward0>)\n",
      "tensor(0.0089, grad_fn=<MeanBackward0>)\n",
      "tensor(0.0026, grad_fn=<MeanBackward0>)\n",
      "tensor(0.0089, grad_fn=<MeanBackward0>)\n",
      "tensor(0.0026, grad_fn=<MeanBackward0>)\n",
      "tensor(0.0089, grad_fn=<MeanBackward0>)\n",
      "tensor(0.0026, grad_fn=<MeanBackward0>)\n",
      "tensor(0.0089, grad_fn=<MeanBackward0>)\n",
      "tensor(0.0026, grad_fn=<MeanBackward0>)\n",
      "tensor(0.0089, grad_fn=<MeanBackward0>)\n",
      "tensor(0.0026, grad_fn=<MeanBackward0>)\n",
      "tensor(0.0089, grad_fn=<MeanBackward0>)\n",
      "tensor(0.0026, grad_fn=<MeanBackward0>)\n",
      "tensor(0.0089, grad_fn=<MeanBackward0>)\n",
      "tensor(0.0026, grad_fn=<MeanBackward0>)\n",
      "tensor(0.0089, grad_fn=<MeanBackward0>)\n",
      "tensor(0.0026, grad_fn=<MeanBackward0>)\n",
      "tensor(0.0089, grad_fn=<MeanBackward0>)\n",
      "tensor(0.0026, grad_fn=<MeanBackward0>)\n",
      "tensor(0.0089, grad_fn=<MeanBackward0>)\n",
      "tensor(0.0026, grad_fn=<MeanBackward0>)\n",
      "tensor(0.0089, grad_fn=<MeanBackward0>)\n",
      "tensor(0.0026, grad_fn=<MeanBackward0>)\n",
      "tensor(0.0089, grad_fn=<MeanBackward0>)\n",
      "tensor(0.0026, grad_fn=<MeanBackward0>)\n",
      "tensor(0.0089, grad_fn=<MeanBackward0>)\n",
      "tensor(0.0026, grad_fn=<MeanBackward0>)\n",
      "tensor(0.0089, grad_fn=<MeanBackward0>)\n",
      "tensor(0.0026, grad_fn=<MeanBackward0>)\n",
      "tensor(0.0089, grad_fn=<MeanBackward0>)\n",
      "tensor(0.0026, grad_fn=<MeanBackward0>)\n",
      "tensor(0.0089, grad_fn=<MeanBackward0>)\n",
      "tensor(0.0026, grad_fn=<MeanBackward0>)\n",
      "tensor(0.0089, grad_fn=<MeanBackward0>)\n",
      "tensor(0.0026, grad_fn=<MeanBackward0>)\n",
      "tensor(0.0089, grad_fn=<MeanBackward0>)\n",
      "tensor(0.0026, grad_fn=<MeanBackward0>)\n",
      "tensor(0.0089, grad_fn=<MeanBackward0>)\n",
      "tensor(0.0026, grad_fn=<MeanBackward0>)\n",
      "tensor(0.0089, grad_fn=<MeanBackward0>)\n",
      "tensor(0.0026, grad_fn=<MeanBackward0>)\n",
      "tensor(0.0089, grad_fn=<MeanBackward0>)\n",
      "tensor(0.0026, grad_fn=<MeanBackward0>)\n",
      "tensor(0.0089, grad_fn=<MeanBackward0>)\n",
      "tensor(0.0026, grad_fn=<MeanBackward0>)\n",
      "tensor(0.0089, grad_fn=<MeanBackward0>)\n",
      "tensor(0.0026, grad_fn=<MeanBackward0>)\n",
      "tensor(0.0089, grad_fn=<MeanBackward0>)\n",
      "tensor(0.0026, grad_fn=<MeanBackward0>)\n",
      "tensor(0.0089, grad_fn=<MeanBackward0>)\n",
      "tensor(0.0026, grad_fn=<MeanBackward0>)\n",
      "tensor(0.0089, grad_fn=<MeanBackward0>)\n",
      "tensor(0.0026, grad_fn=<MeanBackward0>)\n",
      "tensor(0.0089, grad_fn=<MeanBackward0>)\n",
      "tensor(0.0026, grad_fn=<MeanBackward0>)\n",
      "tensor(0.0089, grad_fn=<MeanBackward0>)\n",
      "tensor(0.0026, grad_fn=<MeanBackward0>)\n"
     ]
    }
   ],
   "source": [
    "\n",
    "epochs = 100\n",
    "for epoch in range(epochs):\n",
    "    train(X_train, y_train, model_0, loss=loss, optimizer=optimizer)\n"
   ]
  },
  {
   "cell_type": "code",
   "execution_count": 100,
   "id": "76f1ffd7-38e8-438a-b609-e3d03539ec62",
   "metadata": {},
   "outputs": [
    {
     "data": {
      "text/plain": [
       "OrderedDict([('w', tensor([0.6990])), ('bias', tensor([0.3093]))])"
      ]
     },
     "execution_count": 100,
     "metadata": {},
     "output_type": "execute_result"
    }
   ],
   "source": [
    "model_0.state_dict()"
   ]
  },
  {
   "cell_type": "code",
   "execution_count": 102,
   "id": "87ac490e-7ec6-4f5e-8667-97b148e5a378",
   "metadata": {},
   "outputs": [
    {
     "name": "stdout",
     "output_type": "stream",
     "text": [
      "tensor(0.0084)\n"
     ]
    },
    {
     "data": {
      "image/png": "[encoded data removed]",
      "text/plain": [
       "<Figure size 640x480 with 1 Axes>"
      ]
     },
     "metadata": {},
     "output_type": "display_data"
    }
   ],
   "source": [
    "y_list = inference(model_0, X=X_test, y=y_test, loss=loss)\n",
    "plot_regression(X_train, y_train, X_test, y_test, y_list)"
   ]
  },
  {
   "cell_type": "code",
   "execution_count": null,
   "id": "a9b36b9e-9e90-4d1a-95a8-b41c27561761",
   "metadata": {},
   "outputs": [],
   "source": []
  },
  {
   "cell_type": "markdown",
   "id": "d774e632-14f1-40c6-8e43-b1ed1d6543fd",
   "metadata": {},
   "source": [
    "## Saving and loading the model"
   ]
  },
  {
   "cell_type": "code",
   "execution_count": 103,
   "id": "67b91128-4118-4114-8694-67245b8dcf61",
   "metadata": {},
   "outputs": [],
   "source": [
    "from pathlib import Path\n",
    "\n",
    "# 1. Create models directory \n",
    "MODEL_PATH = Path(\"models\")\n",
    "MODEL_PATH.mkdir(parents=True, exist_ok=True)"
   ]
  },
  {
   "cell_type": "code",
   "execution_count": 104,
   "id": "0f67ba61-c092-4dec-a33c-b0eb958d229b",
   "metadata": {},
   "outputs": [
    {
     "name": "stdout",
     "output_type": "stream",
     "text": [
      "Saving model to: models/01_pytorch_workflow_model_0.pth\n"
     ]
    }
   ],
   "source": [
    "from pathlib import Path\n",
    "\n",
    "# 1. Create models directory \n",
    "MODEL_PATH = Path(\"models\")\n",
    "MODEL_PATH.mkdir(parents=True, exist_ok=True)\n",
    "\n",
    "# 2. Create model save path \n",
    "MODEL_NAME = \"01_pytorch_workflow_model_0.pth\"\n",
    "MODEL_SAVE_PATH = MODEL_PATH / MODEL_NAME\n",
    "\n",
    "# 3. Save the model state dict \n",
    "print(f\"Saving model to: {MODEL_SAVE_PATH}\")\n",
    "torch.save(obj=model_0.state_dict(), # only saving the state_dict() only saves the models learned parameters\n",
    "           f=MODEL_SAVE_PATH) "
   ]
  },
  {
   "cell_type": "code",
   "execution_count": 105,
   "id": "24a315a4-9b63-4746-b3e8-605766f0f645",
   "metadata": {},
   "outputs": [],
   "source": [
    "model_2 = torch.load('models/01_pytorch_workflow_model_0.pth')"
   ]
  },
  {
   "cell_type": "code",
   "execution_count": 111,
   "id": "37a9859c-285a-42cc-a0da-ce97da7ad635",
   "metadata": {},
   "outputs": [],
   "source": [
    "model_loaded = LinearRegression()"
   ]
  },
  {
   "cell_type": "code",
   "execution_count": 112,
   "id": "b5dd2e99-f1f5-4c47-89b7-ddad1d099ed6",
   "metadata": {},
   "outputs": [
    {
     "data": {
      "text/plain": [
       "<All keys matched successfully>"
      ]
     },
     "execution_count": 112,
     "metadata": {},
     "output_type": "execute_result"
    }
   ],
   "source": [
    "model_loaded.load_state_dict(model_2)\n"
   ]
  },
  {
   "cell_type": "code",
   "execution_count": 113,
   "id": "22518cea-2d8c-4d4f-a224-a5bf1f6b44b9",
   "metadata": {},
   "outputs": [
    {
     "data": {
      "text/plain": [
       "OrderedDict([('w', tensor([0.6990])), ('bias', tensor([0.3093]))])"
      ]
     },
     "execution_count": 113,
     "metadata": {},
     "output_type": "execute_result"
    }
   ],
   "source": [
    "model_loaded.state_dict()"
   ]
  },
  {
   "cell_type": "code",
   "execution_count": 122,
   "id": "ddc7d7ec-5f2f-47b2-b0d9-3d7dea7d35dd",
   "metadata": {},
   "outputs": [],
   "source": [
    "device = 'cuda' if torch.cuda.is_available() else 'cpu'\n",
    "class LinearRegressionLinear(nn.Module):\n",
    "    def __init__(self):\n",
    "        super().__init__()\n",
    "        self.linear = nn.Linear(in_features=1, out_features=1, device=device)\n",
    "    def forward(self, x: torch.Tensor) -> torch.Tensor:\n",
    "        return self.linear(x)\n",
    "                                \n",
    "    "
   ]
  },
  {
   "cell_type": "code",
   "execution_count": 123,
   "id": "481b9527-a4fe-4732-b372-416210e5faaa",
   "metadata": {},
   "outputs": [],
   "source": [
    "test_model_linear = LinearRegressionLinear()"
   ]
  },
  {
   "cell_type": "code",
   "execution_count": 124,
   "id": "48f6da8f-2adb-4acf-aa7e-f4fdd03bf75a",
   "metadata": {},
   "outputs": [
    {
     "data": {
      "text/plain": [
       "OrderedDict([('linear.weight', tensor([[0.6517]], device='cuda:0')),\n",
       "             ('linear.bias', tensor([0.4592], device='cuda:0'))])"
      ]
     },
     "execution_count": 124,
     "metadata": {},
     "output_type": "execute_result"
    }
   ],
   "source": [
    "test_model_linear.state_dict()"
   ]
  },
  {
   "cell_type": "code",
   "execution_count": 146,
   "id": "1e8acd0b-8dae-4db2-9254-d3c5cc053cc0",
   "metadata": {},
   "outputs": [],
   "source": [
    "#loss\n",
    "loss = nn.L1Loss()\n",
    "optimizer = torch.optim.SGD(params=test_model_linear.parameters(), lr=0.001)\n",
    "\n",
    "def train_(model, X, y, loss, optimizer, epoch, device):\n",
    "    # forward\n",
    "    y_pred = model(X.to(device))\n",
    "    # loss\n",
    "    loss_ = loss(y_pred, y.to(device))\n",
    "    # zero_grad clear values in optimizer\n",
    "    optimizer.zero_grad()\n",
    "    # back propagation\n",
    "    loss_.backward()\n",
    "    # step update the weights or parameters of the model\n",
    "    optimizer.step()\n",
    "    # eval\n",
    "    # model.eval()\n",
    "    # with torch.inference_mode():\n",
    "    if (epoch %100 == 0):\n",
    "        print(loss_, model.state_dict())\n",
    "        \n",
    "        \n",
    "def inference(model, X, y, loss, device='cpu'):\n",
    "    with torch.inference_mode():\n",
    "        y_pred = model(X.to(device))\n",
    "        loss_ = loss(y_pred, y.to(device))\n",
    "        print(loss_)\n",
    "    return X, y_pred.detach().cpu().numpy()\n",
    "\n",
    "\n",
    "\n",
    "    \n"
   ]
  },
  {
   "cell_type": "code",
   "execution_count": 131,
   "id": "834ec943-4206-4a22-9a75-1615d5412fca",
   "metadata": {},
   "outputs": [
    {
     "name": "stdout",
     "output_type": "stream",
     "text": [
      "tensor(0.1404, device='cuda:0', grad_fn=<MeanBackward0>) OrderedDict([('linear.weight', tensor([[0.6513]], device='cuda:0')), ('linear.bias', tensor([0.4582], device='cuda:0'))])\n",
      "tensor(0.0272, device='cuda:0', grad_fn=<MeanBackward0>) OrderedDict([('linear.weight', tensor([[0.6131]], device='cuda:0')), ('linear.bias', tensor([0.3592], device='cuda:0'))])\n",
      "tensor(0.0159, device='cuda:0', grad_fn=<MeanBackward0>) OrderedDict([('linear.weight', tensor([[0.6213]], device='cuda:0')), ('linear.bias', tensor([0.3338], device='cuda:0'))])\n",
      "tensor(0.0125, device='cuda:0', grad_fn=<MeanBackward0>) OrderedDict([('linear.weight', tensor([[0.6382]], device='cuda:0')), ('linear.bias', tensor([0.3260], device='cuda:0'))])\n",
      "tensor(0.0090, device='cuda:0', grad_fn=<MeanBackward0>) OrderedDict([('linear.weight', tensor([[0.6552]], device='cuda:0')), ('linear.bias', tensor([0.3188], device='cuda:0'))])\n",
      "tensor(0.0056, device='cuda:0', grad_fn=<MeanBackward0>) OrderedDict([('linear.weight', tensor([[0.6723]], device='cuda:0')), ('linear.bias', tensor([0.3116], device='cuda:0'))])\n",
      "tensor(0.0022, device='cuda:0', grad_fn=<MeanBackward0>) OrderedDict([('linear.weight', tensor([[0.6894]], device='cuda:0')), ('linear.bias', tensor([0.3045], device='cuda:0'))])\n",
      "tensor(0.0008, device='cuda:0', grad_fn=<MeanBackward0>) OrderedDict([('linear.weight', tensor([[0.6991]], device='cuda:0')), ('linear.bias', tensor([0.3000], device='cuda:0'))])\n",
      "tensor(0.0008, device='cuda:0', grad_fn=<MeanBackward0>) OrderedDict([('linear.weight', tensor([[0.6991]], device='cuda:0')), ('linear.bias', tensor([0.3000], device='cuda:0'))])\n",
      "tensor(0.0008, device='cuda:0', grad_fn=<MeanBackward0>) OrderedDict([('linear.weight', tensor([[0.6991]], device='cuda:0')), ('linear.bias', tensor([0.3000], device='cuda:0'))])\n"
     ]
    },
    {
     "data": {
      "text/plain": [
       "OrderedDict([('linear.weight', tensor([[0.6995]], device='cuda:0')),\n",
       "             ('linear.bias', tensor([0.3010], device='cuda:0'))])"
      ]
     },
     "execution_count": 131,
     "metadata": {},
     "output_type": "execute_result"
    }
   ],
   "source": [
    "epochs = 1000\n",
    "for epoch in range(epochs):\n",
    "    train_(test_model_linear, X_train, y_train, loss, optimizer, epoch, device)\n",
    "test_model_linear.state_dict()"
   ]
  },
  {
   "cell_type": "code",
   "execution_count": 147,
   "id": "d9253cba-e019-434c-acb9-163de11627f0",
   "metadata": {},
   "outputs": [
    {
     "name": "stdout",
     "output_type": "stream",
     "text": [
      "tensor(0.0005, device='cuda:0')\n"
     ]
    },
    {
     "data": {
      "image/png": "[encoded data removed]",
      "text/plain": [
       "<Figure size 640x480 with 1 Axes>"
      ]
     },
     "metadata": {},
     "output_type": "display_data"
    }
   ],
   "source": [
    "y_linear_li = inference(test_model_linear, X_test, y_test, loss, device)\n",
    "plot_regression(X_train, y_train, X_test, y_test, y_linear_li)"
   ]
  },
  {
   "cell_type": "code",
   "execution_count": null,
   "id": "35e6cf71-8d42-4dca-8aff-19a4c24f324e",
   "metadata": {},
   "outputs": [],
   "source": []
  }
 ],
 "metadata": {
  "kernelspec": {
   "display_name": "Python 3 (ipykernel)",
   "language": "python",
   "name": "python3"
  },
  "language_info": {
   "codemirror_mode": {
    "name": "ipython",
    "version": 3
   },
   "file_extension": ".py",
   "mimetype": "text/x-python",
   "name": "python",
   "nbconvert_exporter": "python",
   "pygments_lexer": "ipython3",
   "version": "3.11.5"
  }
 },
 "nbformat": 4,
 "nbformat_minor": 5
}
