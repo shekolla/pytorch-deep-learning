{
 "cells": [
  {
   "cell_type": "code",
   "execution_count": 1,
   "id": "d13de8a1",
   "metadata": {},
   "outputs": [],
   "source": [
    "# import all modules here\n",
    "# please rerun the cell after adding new imports\n",
    "import torch\n",
    "from torch import tensor\n",
    "from torch import nn\n",
    "import numpy as np\n",
    "import pandas as pd"
   ]
  },
  {
   "cell_type": "code",
   "execution_count": 2,
   "id": "c0154f9b",
   "metadata": {},
   "outputs": [
    {
     "data": {
      "text/plain": [
       "'2.1.2+cu121'"
      ]
     },
     "execution_count": 2,
     "metadata": {},
     "output_type": "execute_result"
    }
   ],
   "source": [
    "torch.__version__"
   ]
  },
  {
   "cell_type": "markdown",
   "id": "e39e4ab8",
   "metadata": {},
   "source": [
    "Scalar it has only value no direction\n",
    "ezxample numbers like 43, 694\n",
    "and has no dimensions"
   ]
  },
  {
   "cell_type": "code",
   "execution_count": 3,
   "id": "9c783316",
   "metadata": {},
   "outputs": [
    {
     "data": {
      "text/plain": [
       "tensor(43)"
      ]
     },
     "execution_count": 3,
     "metadata": {},
     "output_type": "execute_result"
    }
   ],
   "source": [
    "scalar = torch.tensor(43)\n",
    "scalar"
   ]
  },
  {
   "cell_type": "code",
   "execution_count": 4,
   "id": "fdd32a3d",
   "metadata": {},
   "outputs": [
    {
     "data": {
      "text/plain": [
       "torch.Tensor"
      ]
     },
     "execution_count": 4,
     "metadata": {},
     "output_type": "execute_result"
    }
   ],
   "source": [
    "type(scalar)"
   ]
  },
  {
   "cell_type": "code",
   "execution_count": 5,
   "id": "04394f4a",
   "metadata": {},
   "outputs": [
    {
     "data": {
      "text/plain": [
       "0"
      ]
     },
     "execution_count": 5,
     "metadata": {},
     "output_type": "execute_result"
    }
   ],
   "source": [
    "scalar.ndim"
   ]
  },
  {
   "cell_type": "code",
   "execution_count": 6,
   "id": "d0ccc317",
   "metadata": {},
   "outputs": [
    {
     "data": {
      "text/plain": [
       "43"
      ]
     },
     "execution_count": 6,
     "metadata": {},
     "output_type": "execute_result"
    }
   ],
   "source": [
    "scalar.item()"
   ]
  },
  {
   "cell_type": "markdown",
   "id": "bd8f2705",
   "metadata": {},
   "source": [
    "# Vector\n",
    "Contains values plus direction\n",
    "array can be considered as vector\n"
   ]
  },
  {
   "cell_type": "code",
   "execution_count": 7,
   "id": "3c68b918",
   "metadata": {},
   "outputs": [],
   "source": [
    "vector = tensor([34,56])"
   ]
  },
  {
   "cell_type": "code",
   "execution_count": 8,
   "id": "dd3f3e78",
   "metadata": {},
   "outputs": [
    {
     "name": "stdout",
     "output_type": "stream",
     "text": [
      "torch.int64\n",
      "torch.Size([2])\n",
      "torch.Size([2])\n",
      "1\n",
      "tensor([34, 56])\n"
     ]
    }
   ],
   "source": [
    "print(vector.dtype)\n",
    "print(vector.size())\n",
    "print(vector.shape)\n",
    "print(vector.ndim)\n",
    "print(vector)"
   ]
  },
  {
   "cell_type": "markdown",
   "id": "5d191fe7",
   "metadata": {},
   "source": [
    "# Matrix"
   ]
  },
  {
   "cell_type": "code",
   "execution_count": 9,
   "id": "ab010cfc",
   "metadata": {},
   "outputs": [],
   "source": [
    "matrix = tensor([\n",
    "    [1,2],\n",
    "    [3,4],\n",
    "], dtype=torch.float)"
   ]
  },
  {
   "cell_type": "code",
   "execution_count": 10,
   "id": "1109e6ef",
   "metadata": {},
   "outputs": [
    {
     "data": {
      "text/plain": [
       "torch.float32"
      ]
     },
     "execution_count": 10,
     "metadata": {},
     "output_type": "execute_result"
    }
   ],
   "source": [
    "matrix.dtype"
   ]
  },
  {
   "cell_type": "code",
   "execution_count": 11,
   "id": "98424d57",
   "metadata": {},
   "outputs": [
    {
     "data": {
      "text/plain": [
       "torch.Size([2, 2])"
      ]
     },
     "execution_count": 11,
     "metadata": {},
     "output_type": "execute_result"
    }
   ],
   "source": [
    "matrix.shape"
   ]
  },
  {
   "cell_type": "code",
   "execution_count": 12,
   "id": "8231a33d",
   "metadata": {},
   "outputs": [
    {
     "data": {
      "text/plain": [
       "2"
      ]
     },
     "execution_count": 12,
     "metadata": {},
     "output_type": "execute_result"
    }
   ],
   "source": [
    "matrix.ndim"
   ]
  },
  {
   "cell_type": "code",
   "execution_count": 13,
   "id": "cac79979",
   "metadata": {},
   "outputs": [],
   "source": [
    "Tensor = tensor([\n",
    "    [[\n",
    "        1,2\n",
    "    ]]\n",
    "])"
   ]
  },
  {
   "cell_type": "code",
   "execution_count": 14,
   "id": "d3da5803",
   "metadata": {},
   "outputs": [
    {
     "data": {
      "text/plain": [
       "3"
      ]
     },
     "execution_count": 14,
     "metadata": {},
     "output_type": "execute_result"
    }
   ],
   "source": [
    "Tensor.ndim"
   ]
  },
  {
   "cell_type": "code",
   "execution_count": 15,
   "id": "e0d99912",
   "metadata": {},
   "outputs": [
    {
     "data": {
      "text/plain": [
       "torch.Size([1, 1, 2])"
      ]
     },
     "execution_count": 15,
     "metadata": {},
     "output_type": "execute_result"
    }
   ],
   "source": [
    "Tensor.shape"
   ]
  },
  {
   "cell_type": "code",
   "execution_count": 16,
   "id": "b6d47e42",
   "metadata": {},
   "outputs": [
    {
     "data": {
      "text/plain": [
       "tensor([[[1, 2]]])"
      ]
     },
     "execution_count": 16,
     "metadata": {},
     "output_type": "execute_result"
    }
   ],
   "source": [
    "Tensor[:, :, :]"
   ]
  },
  {
   "cell_type": "markdown",
   "id": "a50bfeb2",
   "metadata": {},
   "source": [
    "# Random Tensor"
   ]
  },
  {
   "cell_type": "code",
   "execution_count": 17,
   "id": "54e3007d",
   "metadata": {},
   "outputs": [],
   "source": [
    "random_tensor = torch.rand(size=[2,3])"
   ]
  },
  {
   "cell_type": "code",
   "execution_count": 18,
   "id": "dba34203",
   "metadata": {},
   "outputs": [
    {
     "data": {
      "text/plain": [
       "tensor([0.9329, 0.0273])"
      ]
     },
     "execution_count": 18,
     "metadata": {},
     "output_type": "execute_result"
    }
   ],
   "source": [
    "random_tensor[:, 2]"
   ]
  },
  {
   "cell_type": "code",
   "execution_count": 19,
   "id": "a6e0d7a6",
   "metadata": {},
   "outputs": [
    {
     "data": {
      "text/plain": [
       "torch.float32"
      ]
     },
     "execution_count": 19,
     "metadata": {},
     "output_type": "execute_result"
    }
   ],
   "source": [
    "random_tensor.dtype"
   ]
  },
  {
   "cell_type": "code",
   "execution_count": 20,
   "id": "5af2702e",
   "metadata": {},
   "outputs": [],
   "source": [
    "zeros_tensor = torch.zeros(size=[2,3])"
   ]
  },
  {
   "cell_type": "code",
   "execution_count": 21,
   "id": "dfb60a50",
   "metadata": {},
   "outputs": [
    {
     "data": {
      "text/plain": [
       "tensor([[0., 0., 0.],\n",
       "        [0., 0., 0.]])"
      ]
     },
     "execution_count": 21,
     "metadata": {},
     "output_type": "execute_result"
    }
   ],
   "source": [
    "zeros_tensor"
   ]
  },
  {
   "cell_type": "code",
   "execution_count": 22,
   "id": "11d02a25",
   "metadata": {},
   "outputs": [],
   "source": [
    "ones_tensor = torch.ones(size=[2,3])"
   ]
  },
  {
   "cell_type": "code",
   "execution_count": 23,
   "id": "763cd0d5",
   "metadata": {},
   "outputs": [
    {
     "data": {
      "text/plain": [
       "tensor([[1., 1., 1.],\n",
       "        [1., 1., 1.]])"
      ]
     },
     "execution_count": 23,
     "metadata": {},
     "output_type": "execute_result"
    }
   ],
   "source": [
    "ones_tensor"
   ]
  },
  {
   "cell_type": "code",
   "execution_count": 24,
   "id": "77f32e15",
   "metadata": {},
   "outputs": [
    {
     "name": "stderr",
     "output_type": "stream",
     "text": [
      "/tmp/ipykernel_38622/317937602.py:1: UserWarning: torch.range is deprecated and will be removed in a future release because its behavior is inconsistent with Python's range builtin. Instead, use torch.arange, which produces values in [start, end).\n",
      "  zero_to_ten = torch.range(0, 10)\n"
     ]
    }
   ],
   "source": [
    "zero_to_ten = torch.range(0, 10)"
   ]
  },
  {
   "cell_type": "code",
   "execution_count": 25,
   "id": "ab816f80",
   "metadata": {},
   "outputs": [
    {
     "data": {
      "text/plain": [
       "tensor([ 0.,  1.,  2.,  3.,  4.,  5.,  6.,  7.,  8.,  9., 10.])"
      ]
     },
     "execution_count": 25,
     "metadata": {},
     "output_type": "execute_result"
    }
   ],
   "source": [
    "zero_to_ten"
   ]
  },
  {
   "cell_type": "code",
   "execution_count": 26,
   "id": "a6f7e396",
   "metadata": {},
   "outputs": [],
   "source": [
    "zero_to_ten_arange = torch.arange(0, 10, 2)"
   ]
  },
  {
   "cell_type": "code",
   "execution_count": 27,
   "id": "9ac3edb4",
   "metadata": {},
   "outputs": [
    {
     "data": {
      "text/plain": [
       "tensor([0, 2, 4, 6, 8])"
      ]
     },
     "execution_count": 27,
     "metadata": {},
     "output_type": "execute_result"
    }
   ],
   "source": [
    "zero_to_ten_arange"
   ]
  },
  {
   "cell_type": "raw",
   "id": "91e974b5",
   "metadata": {},
   "source": [
    "# check for GPU support\n",
    "torch.cuda"
   ]
  },
  {
   "cell_type": "code",
   "execution_count": 28,
   "id": "67762039",
   "metadata": {},
   "outputs": [
    {
     "data": {
      "text/plain": [
       "True"
      ]
     },
     "execution_count": 28,
     "metadata": {},
     "output_type": "execute_result"
    }
   ],
   "source": [
    "torch.cuda.is_available()"
   ]
  },
  {
   "cell_type": "code",
   "execution_count": 29,
   "id": "2966ddcf",
   "metadata": {},
   "outputs": [],
   "source": [
    "float_32_tensor = torch.tensor(\n",
    "    [3.4, 4, 6],\n",
    "    dtype=torch.float,\n",
    "    device='cuda:0',\n",
    "    requires_grad=False\n",
    "                              )"
   ]
  },
  {
   "cell_type": "code",
   "execution_count": 30,
   "id": "0383a2fd",
   "metadata": {},
   "outputs": [
    {
     "data": {
      "text/plain": [
       "tensor([3.4000, 4.0000, 6.0000], device='cuda:0')"
      ]
     },
     "execution_count": 30,
     "metadata": {},
     "output_type": "execute_result"
    }
   ],
   "source": [
    "float_32_tensor"
   ]
  },
  {
   "cell_type": "code",
   "execution_count": 31,
   "id": "3c5391a2",
   "metadata": {},
   "outputs": [
    {
     "data": {
      "text/plain": [
       "(torch.Size([3]), torch.float32, device(type='cuda', index=0))"
      ]
     },
     "execution_count": 31,
     "metadata": {},
     "output_type": "execute_result"
    }
   ],
   "source": [
    "float_32_tensor.shape, float_32_tensor.dtype, float_32_tensor.device"
   ]
  },
  {
   "cell_type": "code",
   "execution_count": 32,
   "id": "34f31b37",
   "metadata": {},
   "outputs": [],
   "source": [
    "basic_tensor = tensor([1,2,3])"
   ]
  },
  {
   "cell_type": "code",
   "execution_count": 33,
   "id": "5ef9040d",
   "metadata": {},
   "outputs": [
    {
     "data": {
      "text/plain": [
       "tensor([ 1,  8, 27])"
      ]
     },
     "execution_count": 33,
     "metadata": {},
     "output_type": "execute_result"
    }
   ],
   "source": [
    "basic_tensor ** 3"
   ]
  },
  {
   "cell_type": "code",
   "execution_count": 34,
   "id": "f4318e42",
   "metadata": {},
   "outputs": [
    {
     "data": {
      "text/plain": [
       "tensor([11, 12, 13])"
      ]
     },
     "execution_count": 34,
     "metadata": {},
     "output_type": "execute_result"
    }
   ],
   "source": [
    "basic_tensor - 10\n",
    "basic_tensor / 10\n",
    "basic_tensor + 10"
   ]
  },
  {
   "cell_type": "code",
   "execution_count": 35,
   "id": "17a2b962",
   "metadata": {},
   "outputs": [
    {
     "data": {
      "text/plain": [
       "tensor([10, 20, 30])"
      ]
     },
     "execution_count": 35,
     "metadata": {},
     "output_type": "execute_result"
    }
   ],
   "source": [
    "torch.multiply(basic_tensor, 10)"
   ]
  },
  {
   "cell_type": "code",
   "execution_count": 36,
   "id": "26a0f08e",
   "metadata": {},
   "outputs": [
    {
     "data": {
      "text/plain": [
       "tensor([1, 4, 9])"
      ]
     },
     "execution_count": 36,
     "metadata": {},
     "output_type": "execute_result"
    }
   ],
   "source": [
    "basic_tensor * basic_tensor"
   ]
  },
  {
   "cell_type": "code",
   "execution_count": 37,
   "id": "e22bbc25",
   "metadata": {},
   "outputs": [
    {
     "data": {
      "text/plain": [
       "tensor(14)"
      ]
     },
     "execution_count": 37,
     "metadata": {},
     "output_type": "execute_result"
    }
   ],
   "source": [
    "torch.matmul(basic_tensor, basic_tensor)"
   ]
  },
  {
   "cell_type": "code",
   "execution_count": 38,
   "id": "2e9d25e4",
   "metadata": {},
   "outputs": [
    {
     "data": {
      "text/plain": [
       "torch.Size([3])"
      ]
     },
     "execution_count": 38,
     "metadata": {},
     "output_type": "execute_result"
    }
   ],
   "source": [
    "basic_tensor.shape"
   ]
  },
  {
   "cell_type": "code",
   "execution_count": 39,
   "id": "fcd37de4",
   "metadata": {},
   "outputs": [
    {
     "data": {
      "text/plain": [
       "tensor([[ 27.,  30.,  33.],\n",
       "        [ 61.,  68.,  75.],\n",
       "        [ 95., 106., 117.]])"
      ]
     },
     "execution_count": 39,
     "metadata": {},
     "output_type": "execute_result"
    }
   ],
   "source": [
    "# Shapes need to be in the right way  \n",
    "tensor_A = torch.tensor([[1, 2],\n",
    "                         [3, 4],\n",
    "                         [5, 6]], dtype=torch.float32)\n",
    "\n",
    "tensor_B = torch.tensor([[7, 10],\n",
    "                         [8, 11], \n",
    "                         [9, 12]], dtype=torch.float32)\n",
    "\n",
    "torch.matmul(tensor_A, tensor_B.T) # (this will error)"
   ]
  },
  {
   "cell_type": "code",
   "execution_count": 40,
   "id": "54af2dae",
   "metadata": {},
   "outputs": [
    {
     "data": {
      "text/plain": [
       "tensor([[ 7.,  8.,  9.],\n",
       "        [10., 11., 12.]])"
      ]
     },
     "execution_count": 40,
     "metadata": {},
     "output_type": "execute_result"
    }
   ],
   "source": [
    "tensor_B.T"
   ]
  },
  {
   "cell_type": "code",
   "execution_count": 41,
   "id": "61666057",
   "metadata": {},
   "outputs": [
    {
     "data": {
      "text/plain": [
       "tensor([[ 27.,  30.,  33.],\n",
       "        [ 61.,  68.,  75.],\n",
       "        [ 95., 106., 117.]])"
      ]
     },
     "execution_count": 41,
     "metadata": {},
     "output_type": "execute_result"
    }
   ],
   "source": [
    "torch.mm(tensor_A, tensor_B.T)"
   ]
  },
  {
   "cell_type": "code",
   "execution_count": 42,
   "id": "4869af32",
   "metadata": {},
   "outputs": [],
   "source": [
    "# torch.manual_seed(42)\n",
    "# linear = torch.nn.Linear(in_features=2, # in_features = matches inner dimension of input \n",
    "#                          out_features=6) # out_features = describes outer value \n",
    "# x = tensor_A\n",
    "# print(list(linear.parameters()))\n",
    "# output = linear(x)\n",
    "# print(f\"Input shape: {x.shape}\\n\")\n",
    "# print(f\"Output:\\n{output}\\n\\nOutput shape: {output.shape}\")"
   ]
  },
  {
   "cell_type": "code",
   "execution_count": 43,
   "id": "6b3d509c",
   "metadata": {},
   "outputs": [
    {
     "name": "stdout",
     "output_type": "stream",
     "text": [
      "<generator object Module.parameters at 0x7f32f5e99620>\n",
      "tensor([[ 1.5579e+00, -1.2908e+00,  1.2290e-04,  9.3897e-01,  9.1430e-01,\n",
      "          1.8929e+00],\n",
      "        [ 2.5375e+00, -3.5429e+00, -1.0734e-01,  1.9560e+00,  2.4602e+00,\n",
      "          3.4709e+00],\n",
      "        [ 3.5171e+00, -5.7950e+00, -2.1481e-01,  2.9731e+00,  4.0060e+00,\n",
      "          5.0490e+00]], grad_fn=<AddmmBackward0>)\n"
     ]
    }
   ],
   "source": [
    "linear_nn = nn.Linear(in_features=2, out_features=6)\n",
    "print(linear_nn.parameters())\n",
    "logics = linear_nn(tensor_A)\n",
    "print(logics)"
   ]
  },
  {
   "cell_type": "code",
   "execution_count": 44,
   "id": "f17c5c61",
   "metadata": {},
   "outputs": [],
   "source": [
    "tens = torch.arange(0, 101, 10)"
   ]
  },
  {
   "cell_type": "code",
   "execution_count": 45,
   "id": "5d5488a6",
   "metadata": {},
   "outputs": [
    {
     "data": {
      "text/plain": [
       "tensor(550.)"
      ]
     },
     "execution_count": 45,
     "metadata": {},
     "output_type": "execute_result"
    }
   ],
   "source": [
    "tens.type(torch.float32).mean()\n",
    "tens.type(torch.float32).sum()"
   ]
  },
  {
   "cell_type": "code",
   "execution_count": 46,
   "id": "3fe59654",
   "metadata": {},
   "outputs": [
    {
     "data": {
      "text/plain": [
       "0"
      ]
     },
     "execution_count": 46,
     "metadata": {},
     "output_type": "execute_result"
    }
   ],
   "source": [
    "tens.argmax()\n",
    "tens.argmin().item()"
   ]
  },
  {
   "cell_type": "markdown",
   "id": "ee8f50cd",
   "metadata": {},
   "source": [
    "### Reshaping, stacking, squeezing and unsqueezing\n"
   ]
  },
  {
   "cell_type": "code",
   "execution_count": 47,
   "id": "3ce6072f",
   "metadata": {},
   "outputs": [],
   "source": [
    "x = torch.arange(1,8)"
   ]
  },
  {
   "cell_type": "code",
   "execution_count": 48,
   "id": "f01d2d69",
   "metadata": {},
   "outputs": [
    {
     "data": {
      "text/plain": [
       "tensor([1, 2, 3, 4, 5, 6, 7])"
      ]
     },
     "execution_count": 48,
     "metadata": {},
     "output_type": "execute_result"
    }
   ],
   "source": [
    "x"
   ]
  },
  {
   "cell_type": "code",
   "execution_count": 49,
   "id": "f60e42bd",
   "metadata": {},
   "outputs": [
    {
     "data": {
      "text/plain": [
       "torch.Size([7])"
      ]
     },
     "execution_count": 49,
     "metadata": {},
     "output_type": "execute_result"
    }
   ],
   "source": [
    "x.shape"
   ]
  },
  {
   "cell_type": "code",
   "execution_count": 50,
   "id": "17c4b544",
   "metadata": {},
   "outputs": [
    {
     "data": {
      "text/plain": [
       "tensor([[1, 2, 3, 4, 5, 6, 7]])"
      ]
     },
     "execution_count": 50,
     "metadata": {},
     "output_type": "execute_result"
    }
   ],
   "source": [
    "x.reshape(1,7)"
   ]
  },
  {
   "cell_type": "code",
   "execution_count": 51,
   "id": "9f9eabd0",
   "metadata": {},
   "outputs": [],
   "source": [
    "y = x.view(1,7)"
   ]
  },
  {
   "cell_type": "code",
   "execution_count": 52,
   "id": "afbb9fe8",
   "metadata": {},
   "outputs": [
    {
     "data": {
      "text/plain": [
       "tensor([[1, 2, 3, 4, 5, 6, 7]])"
      ]
     },
     "execution_count": 52,
     "metadata": {},
     "output_type": "execute_result"
    }
   ],
   "source": [
    "y"
   ]
  },
  {
   "cell_type": "code",
   "execution_count": 53,
   "id": "7f32702b",
   "metadata": {},
   "outputs": [],
   "source": [
    "y[: ,5] = 11"
   ]
  },
  {
   "cell_type": "code",
   "execution_count": 54,
   "id": "11cf51b6",
   "metadata": {},
   "outputs": [
    {
     "data": {
      "text/plain": [
       "tensor([[ 1,  2,  3,  4,  5, 11,  7]])"
      ]
     },
     "execution_count": 54,
     "metadata": {},
     "output_type": "execute_result"
    }
   ],
   "source": [
    "y"
   ]
  },
  {
   "cell_type": "code",
   "execution_count": 55,
   "id": "a6d4d008",
   "metadata": {},
   "outputs": [
    {
     "data": {
      "text/plain": [
       "tensor([ 1,  2,  3,  4,  5, 11,  7])"
      ]
     },
     "execution_count": 55,
     "metadata": {},
     "output_type": "execute_result"
    }
   ],
   "source": [
    "x"
   ]
  },
  {
   "cell_type": "code",
   "execution_count": 56,
   "id": "f9d1c914",
   "metadata": {},
   "outputs": [],
   "source": [
    "y[0][5] = 6"
   ]
  },
  {
   "cell_type": "code",
   "execution_count": 57,
   "id": "82f26ff1",
   "metadata": {},
   "outputs": [
    {
     "data": {
      "text/plain": [
       "tensor([[1, 2, 3, 4, 5, 6, 7]])"
      ]
     },
     "execution_count": 57,
     "metadata": {},
     "output_type": "execute_result"
    }
   ],
   "source": [
    "y"
   ]
  },
  {
   "cell_type": "code",
   "execution_count": 58,
   "id": "f37de07c",
   "metadata": {},
   "outputs": [],
   "source": [
    "x_stacked = torch.stack([x,x,x,x], dim = 0)"
   ]
  },
  {
   "cell_type": "code",
   "execution_count": 59,
   "id": "0465332f",
   "metadata": {},
   "outputs": [
    {
     "data": {
      "text/plain": [
       "tensor([[1, 2, 3, 4, 5, 6, 7],\n",
       "        [1, 2, 3, 4, 5, 6, 7],\n",
       "        [1, 2, 3, 4, 5, 6, 7],\n",
       "        [1, 2, 3, 4, 5, 6, 7]])"
      ]
     },
     "execution_count": 59,
     "metadata": {},
     "output_type": "execute_result"
    }
   ],
   "source": [
    "x_stacked\n"
   ]
  },
  {
   "cell_type": "code",
   "execution_count": 60,
   "id": "99b19759",
   "metadata": {},
   "outputs": [
    {
     "data": {
      "text/plain": [
       "tensor([[[1],\n",
       "         [2],\n",
       "         [3],\n",
       "         [4],\n",
       "         [5],\n",
       "         [6],\n",
       "         [7]]])"
      ]
     },
     "execution_count": 60,
     "metadata": {},
     "output_type": "execute_result"
    }
   ],
   "source": [
    "y.unsqueeze(dim=2)"
   ]
  },
  {
   "cell_type": "code",
   "execution_count": 61,
   "id": "34a3b1b8",
   "metadata": {},
   "outputs": [],
   "source": [
    "def print_details(tens):\n",
    "    print(tens.shape)\n",
    "    print(tens.dtype)    \n",
    "    print(tens.ndim)    \n",
    "    "
   ]
  },
  {
   "cell_type": "markdown",
   "id": "f6ab4913",
   "metadata": {},
   "source": [
    "## PyTorch tensors & NumPy\n"
   ]
  },
  {
   "cell_type": "code",
   "execution_count": 62,
   "id": "799ee291",
   "metadata": {},
   "outputs": [],
   "source": [
    "arr = np.arange(1, 11)"
   ]
  },
  {
   "cell_type": "code",
   "execution_count": 63,
   "id": "a38cce4e",
   "metadata": {},
   "outputs": [
    {
     "data": {
      "text/plain": [
       "array([ 1,  2,  3,  4,  5,  6,  7,  8,  9, 10])"
      ]
     },
     "execution_count": 63,
     "metadata": {},
     "output_type": "execute_result"
    }
   ],
   "source": [
    "arr\n"
   ]
  },
  {
   "cell_type": "code",
   "execution_count": 64,
   "id": "3905605e",
   "metadata": {},
   "outputs": [
    {
     "data": {
      "text/plain": [
       "tensor([ 1.,  2.,  3.,  4.,  5.,  6.,  7.,  8.,  9., 10.])"
      ]
     },
     "execution_count": 64,
     "metadata": {},
     "output_type": "execute_result"
    }
   ],
   "source": [
    "arr_tensor = tensor(arr, dtype=torch.float)\n",
    "arr_tensor\n",
    "\n"
   ]
  },
  {
   "cell_type": "code",
   "execution_count": 65,
   "id": "490edb41",
   "metadata": {},
   "outputs": [
    {
     "name": "stdout",
     "output_type": "stream",
     "text": [
      "torch.Size([10])\n",
      "torch.float32\n",
      "1\n"
     ]
    }
   ],
   "source": [
    "print_details(arr_tensor)"
   ]
  },
  {
   "cell_type": "code",
   "execution_count": 66,
   "id": "116c4f15",
   "metadata": {},
   "outputs": [],
   "source": [
    "from transformers import AutoTokenizer, AutoModelForCausalLM\n"
   ]
  },
  {
   "cell_type": "code",
   "execution_count": 69,
   "id": "48f5ae53-82cd-45e2-8c28-82b05f4a8f65",
   "metadata": {},
   "outputs": [
    {
     "name": "stdout",
     "output_type": "stream",
     "text": [
      "Tensor A:\n",
      "tensor([[0.8823, 0.9150, 0.3829, 0.9593],\n",
      "        [0.3904, 0.6009, 0.2566, 0.7936],\n",
      "        [0.9408, 0.1332, 0.9346, 0.5936]])\n",
      "\n",
      "Tensor B:\n",
      "tensor([[0.8823, 0.9150, 0.3829, 0.9593],\n",
      "        [0.3904, 0.6009, 0.2566, 0.7936],\n",
      "        [0.9408, 0.1332, 0.9346, 0.5936]])\n",
      "\n",
      "Does Tensor A equal Tensor B? (anywhere)\n"
     ]
    },
    {
     "data": {
      "text/plain": [
       "tensor([[True, True, True, True],\n",
       "        [True, True, True, True],\n",
       "        [True, True, True, True]])"
      ]
     },
     "execution_count": 69,
     "metadata": {},
     "output_type": "execute_result"
    }
   ],
   "source": [
    "import torch\n",
    "torch.manual_seed(42)\n",
    "# Create two random tensors\n",
    "random_tensor_A = torch.rand(3, 4)\n",
    "torch.manual_seed(42)\n",
    "\n",
    "random_tensor_B = torch.rand(3, 4)\n",
    "\n",
    "print(f\"Tensor A:\\n{random_tensor_A}\\n\")\n",
    "print(f\"Tensor B:\\n{random_tensor_B}\\n\")\n",
    "print(f\"Does Tensor A equal Tensor B? (anywhere)\")\n",
    "random_tensor_A == random_tensor_B"
   ]
  },
  {
   "cell_type": "code",
   "execution_count": 71,
   "id": "3438d131-b584-420e-af35-d554611c759f",
   "metadata": {},
   "outputs": [
    {
     "name": "stdout",
     "output_type": "stream",
     "text": [
      "Wed Feb 21 22:46:06 2024       \n",
      "+-----------------------------------------------------------------------------------------+\n",
      "| NVIDIA-SMI 550.40.07              Driver Version: 551.52         CUDA Version: 12.4     |\n",
      "|-----------------------------------------+------------------------+----------------------+\n",
      "| GPU  Name                 Persistence-M | Bus-Id          Disp.A | Volatile Uncorr. ECC |\n",
      "| Fan  Temp   Perf          Pwr:Usage/Cap |           Memory-Usage | GPU-Util  Compute M. |\n",
      "|                                         |                        |               MIG M. |\n",
      "|=========================================+========================+======================|\n",
      "|   0  NVIDIA GeForce RTX 3080        On  |   00000000:01:00.0  On |                  N/A |\n",
      "|  0%   54C    P8             35W /  320W |    2490MiB /  10240MiB |      8%      Default |\n",
      "|                                         |                        |                  N/A |\n",
      "+-----------------------------------------+------------------------+----------------------+\n",
      "                                                                                         \n",
      "+-----------------------------------------------------------------------------------------+\n",
      "| Processes:                                                                              |\n",
      "|  GPU   GI   CI        PID   Type   Process name                              GPU Memory |\n",
      "|        ID   ID                                                               Usage      |\n",
      "|=========================================================================================|\n",
      "|  No running processes found                                                             |\n",
      "+-----------------------------------------------------------------------------------------+\n"
     ]
    }
   ],
   "source": [
    "!nvidia-smi"
   ]
  },
  {
   "cell_type": "code",
   "execution_count": 72,
   "id": "44415682-6f89-477a-84d3-92d17a53bcf4",
   "metadata": {},
   "outputs": [
    {
     "data": {
      "text/plain": [
       "1"
      ]
     },
     "execution_count": 72,
     "metadata": {},
     "output_type": "execute_result"
    }
   ],
   "source": [
    "torch.cuda.device_count()\n"
   ]
  },
  {
   "cell_type": "code",
   "execution_count": 80,
   "id": "a22a4235-63a8-4fc7-8b3c-8b94ba7cb457",
   "metadata": {},
   "outputs": [],
   "source": [
    "tensor = torch.tensor([1,2.4, 5.], device='cuda')"
   ]
  },
  {
   "cell_type": "code",
   "execution_count": 82,
   "id": "481195f1-c89b-4f85-aee8-22a10704d174",
   "metadata": {},
   "outputs": [],
   "source": [
    "tensor.device, tensor\n",
    "from torch import tensor"
   ]
  },
  {
   "cell_type": "code",
   "execution_count": 83,
   "id": "2a78ea29-219a-4bb4-ba72-d6b1f0f95423",
   "metadata": {},
   "outputs": [
    {
     "data": {
      "text/plain": [
       "<function torch._VariableFunctionsClass.tensor>"
      ]
     },
     "execution_count": 83,
     "metadata": {},
     "output_type": "execute_result"
    }
   ],
   "source": [
    "tensor"
   ]
  },
  {
   "cell_type": "code",
   "execution_count": 84,
   "id": "29577d16-460d-4140-a98e-61bc39fb9c91",
   "metadata": {},
   "outputs": [],
   "source": [
    "tensor_on_gpu = torch.rand([3,4], device ='cuda', dtype=torch.float)"
   ]
  },
  {
   "cell_type": "code",
   "execution_count": 86,
   "id": "cbd62e03-ed4c-44b6-8062-c022b32e1af6",
   "metadata": {},
   "outputs": [
    {
     "data": {
      "text/plain": [
       "(tensor([[0.6130, 0.0101, 0.3984, 0.0403],\n",
       "         [0.1563, 0.4825, 0.7362, 0.4060],\n",
       "         [0.5189, 0.2867, 0.2416, 0.9228]], device='cuda:0'),\n",
       " device(type='cuda', index=0))"
      ]
     },
     "execution_count": 86,
     "metadata": {},
     "output_type": "execute_result"
    }
   ],
   "source": [
    "tensor_on_gpu, tensor_on_gpu.device"
   ]
  },
  {
   "cell_type": "code",
   "execution_count": 87,
   "id": "2c62bc20-439a-4baa-bc66-6ba0d4e44f43",
   "metadata": {},
   "outputs": [],
   "source": [
    "tensor_on_cpu = torch.zeros(2,2)"
   ]
  },
  {
   "cell_type": "code",
   "execution_count": 88,
   "id": "c8aab93e-94cb-43d8-a7e9-75649042af95",
   "metadata": {},
   "outputs": [
    {
     "data": {
      "text/plain": [
       "array([[0., 0.],\n",
       "       [0., 0.]], dtype=float32)"
      ]
     },
     "execution_count": 88,
     "metadata": {},
     "output_type": "execute_result"
    }
   ],
   "source": [
    "tensor_on_cpu.numpy()"
   ]
  },
  {
   "cell_type": "code",
   "execution_count": 91,
   "id": "d680552c-85b7-41dd-9dd5-6aab14eaaaaf",
   "metadata": {},
   "outputs": [
    {
     "data": {
      "text/plain": [
       "array([[0.61295986, 0.01005884, 0.39841369, 0.0403084 ],\n",
       "       [0.15626675, 0.48247308, 0.7362473 , 0.40598196],\n",
       "       [0.51889962, 0.2867111 , 0.24158043, 0.92283922]])"
      ]
     },
     "execution_count": 91,
     "metadata": {},
     "output_type": "execute_result"
    }
   ],
   "source": [
    "tensor_on_gpu.type(torch.float64).cpu().numpy()"
   ]
  },
  {
   "cell_type": "code",
   "execution_count": null,
   "id": "3d622aa7-0f00-450c-84a5-c3d35f40e322",
   "metadata": {},
   "outputs": [],
   "source": []
  }
 ],
 "metadata": {
  "kernelspec": {
   "display_name": "Python 3 (ipykernel)",
   "language": "python",
   "name": "python3"
  },
  "language_info": {
   "codemirror_mode": {
    "name": "ipython",
    "version": 3
   },
   "file_extension": ".py",
   "mimetype": "text/x-python",
   "name": "python",
   "nbconvert_exporter": "python",
   "pygments_lexer": "ipython3",
   "version": "3.11.5"
  }
 },
 "nbformat": 4,
 "nbformat_minor": 5
}
